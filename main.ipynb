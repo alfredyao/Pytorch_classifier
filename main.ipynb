{
 "cells": [
  {
   "cell_type": "code",
   "execution_count": 1,
   "metadata": {},
   "outputs": [],
   "source": [
    "%load_ext autoreload\n",
    "%autoreload 2"
   ]
  },
  {
   "cell_type": "code",
   "execution_count": 3,
   "metadata": {},
   "outputs": [
    {
     "name": "stdout",
     "output_type": "stream",
     "text": [
      "Data successfully saved to /Users/shunyuyao/Documents/toy_neural_netpytorch/util/traindata\n",
      "Data successfully saved to /Users/shunyuyao/Documents/toy_neural_netpytorch/util/evaldata\n",
      "Feature matrix shape: (1000, 16)\n",
      "Labels shape: (1000,)\n"
     ]
    }
   ],
   "source": [
    "!python util/datagenerator.py\n"
   ]
  },
  {
   "cell_type": "code",
   "execution_count": 13,
   "metadata": {},
   "outputs": [],
   "source": [
    "import numpy as np\n",
    "import json\n",
    "import os\n",
    "import torch\n",
    "import torch.nn as nn\n",
    "import torch.nn.functional as F\n",
    "from util import model\n",
    "from util import trainer\n",
    "from torch.utils.data import DataLoader, TensorDataset\n",
    "\n",
    "def load_from_json(filename='data.json'):\n",
    "\n",
    "\n",
    "\n",
    "\n",
    "\n",
    "    \"\"\"\n",
    "    Loads the feature matrix X and labels y from a JSON file.\n",
    "\n",
    "    Parameters:\n",
    "    - filename: str, the name of the file to load the data from.\n",
    "\n",
    "    Returns:\n",
    "    - X: np.array, feature matrix.\n",
    "    - y: np.array, labels.\n",
    "    \"\"\"\n",
    "    with open(filename, 'r') as f:\n",
    "        data = json.load(f)\n",
    "    \n",
    "  #  X = np.array(data[\"features\"])\n",
    "  #  y = np.array(data[\"labels\"])\n",
    "    \n",
    "    return data\n",
    "\n",
    "current_directory = os.getcwd()\n",
    "file_name = os.path.join(current_directory, 'util/traindata')\n",
    "traindata = load_from_json(filename=file_name)\n",
    "\n",
    "file_name = os.path.join(current_directory, 'util/evaldata')\n",
    "evaldata = load_from_json(filename=file_name)\n",
    "\n",
    "X = torch.tensor(traindata['features'])\n",
    "y = torch.tensor(traindata['labels']).to(torch.long)\n",
    "\n",
    "traindataset = TensorDataset(X,y)\n"
   ]
  },
  {
   "cell_type": "code",
   "execution_count": 16,
   "metadata": {},
   "outputs": [
    {
     "name": "stdout",
     "output_type": "stream",
     "text": [
      "Using device: cpu\n",
      "Epoch [10/1000], Loss: 0.2573486864566803\n",
      "Epoch [20/1000], Loss: 0.1000555008649826\n",
      "Epoch [30/1000], Loss: 0.0587998889386654\n",
      "Epoch [40/1000], Loss: 0.0214394591748714\n",
      "Epoch [50/1000], Loss: 0.0150382863357663\n",
      "Epoch [60/1000], Loss: 0.0106113916262984\n",
      "Epoch [70/1000], Loss: 0.0088818622753024\n",
      "Epoch [80/1000], Loss: 0.0068025547079742\n",
      "Epoch [90/1000], Loss: 0.0032252282835543\n",
      "Epoch [100/1000], Loss: 0.0016775599215180\n",
      "Epoch [110/1000], Loss: 0.0027498824056238\n",
      "Epoch [120/1000], Loss: 0.0018943517934531\n",
      "Epoch [130/1000], Loss: 0.0021800324320793\n",
      "Epoch [140/1000], Loss: 0.0010177348740399\n",
      "Epoch [150/1000], Loss: 0.0008804978569970\n",
      "Epoch [160/1000], Loss: 0.0010020111221820\n",
      "Epoch [170/1000], Loss: 0.0009175543673337\n",
      "Epoch [180/1000], Loss: 0.0005426792195067\n",
      "Epoch [190/1000], Loss: 0.0006214251625352\n",
      "Epoch [200/1000], Loss: 0.0003201656800229\n",
      "Epoch [210/1000], Loss: 0.0002719876356423\n",
      "Epoch [220/1000], Loss: 0.0008412218303420\n",
      "Epoch [230/1000], Loss: 0.0002533155784477\n",
      "Epoch [240/1000], Loss: 0.0004980459925719\n",
      "Epoch [250/1000], Loss: 0.0002546850882936\n",
      "Epoch [260/1000], Loss: 0.0001600447285455\n",
      "Epoch [270/1000], Loss: 0.0004851102712564\n",
      "Epoch [280/1000], Loss: 0.0001124906484620\n",
      "Epoch [290/1000], Loss: 0.0001129137090174\n",
      "Epoch [300/1000], Loss: 0.0000945251231315\n",
      "Epoch [310/1000], Loss: 0.0000473571781185\n",
      "Epoch [320/1000], Loss: 0.0000735576395527\n",
      "Epoch [330/1000], Loss: 0.0000300223473459\n",
      "Epoch [340/1000], Loss: 0.0000410316570196\n",
      "Epoch [350/1000], Loss: 0.0000302185762848\n",
      "Epoch [360/1000], Loss: 0.0000878212740645\n",
      "Epoch [370/1000], Loss: 0.0000328742244164\n",
      "Epoch [380/1000], Loss: 0.0000320401632052\n",
      "Epoch [390/1000], Loss: 0.0000212017566810\n",
      "Epoch [400/1000], Loss: 0.0000203921717912\n",
      "Epoch [410/1000], Loss: 0.0000156586429512\n",
      "Epoch [420/1000], Loss: 0.0000038572529775\n",
      "Epoch [430/1000], Loss: 0.0000134276497192\n",
      "Epoch [440/1000], Loss: 0.0000054750885283\n",
      "Epoch [450/1000], Loss: 0.0000131297765620\n",
      "Epoch [460/1000], Loss: 0.0000033037797493\n",
      "Epoch [470/1000], Loss: 0.0000035166533507\n",
      "Epoch [480/1000], Loss: 0.0000092555219453\n",
      "Epoch [490/1000], Loss: 0.0000056538310673\n",
      "Epoch [500/1000], Loss: 0.0000103794645838\n",
      "Epoch [510/1000], Loss: 0.0000037635829813\n",
      "Epoch [520/1000], Loss: 0.0000121843959278\n",
      "Epoch [530/1000], Loss: 0.0000019584333586\n",
      "Epoch [540/1000], Loss: 0.0000073142723522\n",
      "Epoch [550/1000], Loss: 0.0000023075408535\n",
      "Epoch [560/1000], Loss: 0.0000026225945930\n",
      "Epoch [570/1000], Loss: 0.0000009451584333\n",
      "Epoch [580/1000], Loss: 0.0000013964474874\n",
      "Epoch [590/1000], Loss: 0.0000006811951607\n",
      "Epoch [600/1000], Loss: 0.0000015156531390\n",
      "Epoch [610/1000], Loss: 0.0000002384185080\n",
      "Epoch [620/1000], Loss: 0.0000005790162163\n",
      "Epoch [630/1000], Loss: 0.0000002809932198\n",
      "Epoch [640/1000], Loss: 0.0000004257472028\n",
      "Epoch [650/1000], Loss: 0.0000025374308734\n",
      "Epoch [660/1000], Loss: 0.0000001192092753\n",
      "Epoch [670/1000], Loss: 0.0000004087171419\n",
      "Epoch [680/1000], Loss: 0.0000002639633010\n",
      "Epoch [690/1000], Loss: 0.0000005449560376\n",
      "Epoch [700/1000], Loss: 0.0000002384184370\n",
      "Epoch [710/1000], Loss: 0.0000003405976372\n",
      "Epoch [720/1000], Loss: 0.0000001958437821\n",
      "Epoch [730/1000], Loss: 0.0000002384184654\n",
      "Epoch [740/1000], Loss: 0.0000006215896633\n",
      "Epoch [750/1000], Loss: 0.0000001021793778\n",
      "Epoch [760/1000], Loss: 0.0000002043585994\n",
      "Epoch [770/1000], Loss: 0.0000001021793778\n",
      "Epoch [780/1000], Loss: 0.0000001277241921\n",
      "Epoch [790/1000], Loss: 0.0000002384184512\n",
      "Epoch [800/1000], Loss: 0.0000000596046341\n",
      "Epoch [810/1000], Loss: 0.0000000425747366\n",
      "Epoch [820/1000], Loss: 0.0000000596046270\n",
      "Epoch [830/1000], Loss: 0.0000000681195829\n",
      "Epoch [840/1000], Loss: 0.0000000340597914\n",
      "Epoch [850/1000], Loss: 0.0000000170298957\n",
      "Epoch [860/1000], Loss: 0.0000002554480432\n",
      "Epoch [870/1000], Loss: 0.0000000425747437\n",
      "Epoch [880/1000], Loss: 0.0000000085149487\n",
      "Epoch [890/1000], Loss: 0.0000000766345210\n",
      "Epoch [900/1000], Loss: 0.0000000681195687\n",
      "Epoch [910/1000], Loss: 0.0000000681195829\n",
      "Epoch [920/1000], Loss: 0.0000000170298957\n",
      "Epoch [930/1000], Loss: 0.0000000510896818\n",
      "Epoch [940/1000], Loss: 0.0000000766345138\n",
      "Epoch [950/1000], Loss: 0.0000000000000000\n",
      "Epoch [960/1000], Loss: 0.0000000085149487\n",
      "Epoch [970/1000], Loss: 0.0000000085149487\n",
      "Epoch [980/1000], Loss: 0.0000000000000000\n",
      "Epoch [990/1000], Loss: 0.0000000000000000\n",
      "Epoch [1000/1000], Loss: 0.0000000000000000\n"
     ]
    }
   ],
   "source": [
    "nnmodel = model.SimpleNN(input_dim=X.shape[1],hidden_dim=20,num_classes=2)\n",
    "nntrainer = trainer.Trainer(model=nnmodel, dataset=traindataset,batch_size=32, learning_rate=1e-4)\n",
    "\n",
    "nntrainer.train(epochs=1000)"
   ]
  },
  {
   "cell_type": "code",
   "execution_count": 18,
   "metadata": {},
   "outputs": [
    {
     "name": "stdout",
     "output_type": "stream",
     "text": [
      "1.8053949446539264e-08\n"
     ]
    }
   ],
   "source": [
    "#evaluation time\n",
    "import torch.nn as nn\n",
    "import torch.nn.functional as F\n",
    "\n",
    "criterion = nn.CrossEntropyLoss()\n",
    "\n",
    "X = torch.tensor(evaldata['features'])\n",
    "y = torch.tensor(evaldata['labels']).to(torch.long)\n",
    "\n",
    "logits = nnmodel(X)\n",
    "loss =  criterion(logits,y)\n",
    "\n",
    "print(loss.item())"
   ]
  },
  {
   "cell_type": "code",
   "execution_count": null,
   "metadata": {},
   "outputs": [],
   "source": []
  }
 ],
 "metadata": {
  "kernelspec": {
   "display_name": "Python 3.11.8 ('base')",
   "language": "python",
   "name": "python3"
  },
  "language_info": {
   "codemirror_mode": {
    "name": "ipython",
    "version": 3
   },
   "file_extension": ".py",
   "mimetype": "text/x-python",
   "name": "python",
   "nbconvert_exporter": "python",
   "pygments_lexer": "ipython3",
   "version": "3.11.8"
  },
  "orig_nbformat": 4,
  "vscode": {
   "interpreter": {
    "hash": "ac6b1957c9c1947797a2767ac46c34f7e637be3f3d0c8bf90363cb836d194d77"
   }
  }
 },
 "nbformat": 4,
 "nbformat_minor": 2
}
